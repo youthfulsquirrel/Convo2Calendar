{
 "cells": [
  {
   "cell_type": "code",
   "execution_count": 12,
   "metadata": {},
   "outputs": [],
   "source": [
    "import whisper\n",
    "from pyannote.audio.pipeline import speaker_diarization as pipeline\n",
    "#from pyannote.audio.models import VoiceActivityDetection\n",
    "#from pyannote_whisper.utils import diarize_text\n",
    "\n",
    "#pipeline = Pipeline(\"speaker-diarization\")"
   ]
  },
  {
   "cell_type": "code",
   "execution_count": null,
   "metadata": {},
   "outputs": [],
   "source": [
    "import sys\n",
    "print(sys.path)"
   ]
  },
  {
   "cell_type": "code",
   "execution_count": null,
   "metadata": {},
   "outputs": [],
   "source": [
    "print ('Hello World')"
   ]
  },
  {
   "cell_type": "code",
   "execution_count": null,
   "metadata": {},
   "outputs": [
    {
     "name": "stdout",
     "output_type": "stream",
     "text": [
      "^C\n"
     ]
    }
   ],
   "source": [
    "!pip install torch"
   ]
  },
  {
   "cell_type": "code",
   "execution_count": 13,
   "metadata": {},
   "outputs": [
    {
     "name": "stdout",
     "output_type": "stream",
     "text": [
      "C:\\Users\\QC\\.miniconda\\envs\\Convo2Calendar\n"
     ]
    },
    {
     "name": "stdout",
     "output_type": "stream",
     "text": [
      "[WinError 2] The system cannot find the file specified: 'conda_env_path'\n",
      "c:\\Users\\QC\\Desktop\\code_qx\\Convo2Calendar\n"
     ]
    }
   ],
   "source": [
    "import os\n",
    "\n",
    "# Get the path to the Miniconda environment\n",
    "conda_env_path = os.path.join(os.path.expanduser(\"~\"), \".miniconda\", \"envs\", \"Convo2Calendar\")\n",
    "print (conda_env_path)\n",
    "# Activate the environment\n",
    "os.system(f\"activate {conda_env_path}\")\n",
    "\n",
    "%cd conda_env_path"
   ]
  },
  {
   "cell_type": "markdown",
   "metadata": {},
   "source": [
    "SPEAKER 1 0:00:00\n",
    "I think if you're a leader and you don't understand the terms that you're using, that's probably the first start. It's really important that as a leader in the organisation you understand what digitisation means, you take the time to read widely in the sector. There are a lot of really good books. Kevin Kelly, who started Wired magazine, has written a great book on various technologies. I think understanding the technologies, understanding what's out there so that you can separate the hype from the hope is really an important first step. And then making sure you understand the relevance of that for your function and how that fits into your business is the second step. \n",
    "SPEAKER 4 0:00:41\n",
    "I think two simple suggestions. One is, I love the phrase, brilliant at the basics, right? So how can you become brilliant at the basics? But beyond that, the fundamental thing I've seen which hasn't changed is so few organisations as a first step have truly taken control of their spend data. As a key first step on a digital transformation, taking ownership of data. And that's not a decision to use one vendor over someone else. That says we are going to be completely data driven, we're going to try and be as real time as possible, and we're going to  be able to explain that data to anyone the way they \n",
    "SPEAKER 2 0:01:20\n",
    "want to see it. And why you're doing it. And then the second thing is, reach out to suppliers in the market, talk to them, collaborate with them, you'll get a much better outcome. \n",
    "SPEAKER 3 0:01:35\n",
    "Think about what outcome you want at the end instead of thinking about the different processes and their software names. So e-sourcing being one of 20. Be big and be brave, I think. And talk to technology vendors, because rather than just sending them forms, we won't bite you. \n",
    "SPEAKER 5 0:01:59\n",
    "I think fundamentally all of us, we think how procurement should be done and then start to define the functionality that we need and how we can make this work. What we're doing today is absolutely wrong. We don't like it, procurement people don't like it, our colleagues don't like it, nobody wants it, and we're spending a huge amount of money for no reason. \n",
    "\n",
    "0.00 10.34 SPEAKER_00  I think if you're a leader and you don't understand the terms that you're using, that's probably the first start.\n",
    "10.34 16.24 SPEAKER_00  It's really important that as a leader in the organisation you understand what digitisation means.\n",
    "16.24 18.52 SPEAKER_00  You take the time to read widely in the sector.\n",
    "18.52 26.16 SPEAKER_00  There are a lot of really good books, Kevin Kelly, who started Wired magazine has written a great book on various technologies.\n",
    "26.16 34.80 SPEAKER_00  I think understanding the technologies, understanding what's out there so that you can separate the hype from the hope is really an important first step.\n",
    "34.80 41.04 SPEAKER_00  And then making sure you understand the relevance of that for your function and how that fits into your business is the second step.\n",
    "41.04 44.92 SPEAKER_01  I think two simple suggestions.\n",
    "44.92 49.68 SPEAKER_01  One is I love the phrase brilliant at the basics.\n",
    "49.68 52.00 SPEAKER_01  How can you become brilliant at the basics?\n",
    "52.00 62.48 SPEAKER_01  But beyond that, the fundamental thing I've seen which hasn't changed is so few organisations as a first step have truly taken control of their spend data.\n",
    "62.48 68.44 SPEAKER_01  As a key first step on a digital transformation, taking ownership of data.\n",
    "68.44 71.76 SPEAKER_01  That's not a decision to use one vendor over someone else.\n",
    "71.76 76.40 SPEAKER_01  That says we are going to be completely data driven, we're going to try and be as real time as possible.\n",
    "76.40 81.04 SPEAKER_01  And we're going to be able to explain that data to anyone the way they want to see it.\n",
    "81.04 91.04 SPEAKER_03  Understand why you're doing it.\n",
    "91.04 95.24 SPEAKER_03  Talk to them, collaborate with them, you'll get a much better outcome.\n",
    "95.24 104.32 SPEAKER_04  Think about what outcome you want at the end instead of thinking about the different processes and their software names.\n",
    "104.32 108.32 SPEAKER_04  So, e-sourcing being one of 20.\n",
    "108.32 109.52 SPEAKER_04  Think big and be brave.\n",
    "109.52 118.56 SPEAKER_04  I think and talk to technology vendors because rather than just sending them forms, we won't bite you.\n",
    "118.56 130.96 SPEAKER_02  I think we should fundamentally, all of us, rethink how procurement should be done and then start to define the functionality that we need and how we can make this work.\n",
    "130.96 135.68 SPEAKER_02  What we do today is absolutely wrong.\n",
    "135.68 172.00 SPEAKER_02  We don't like it, but we don't like it, our colleagues don't like it, nobody wants it and we're spending a huge amount of money for no reason."
   ]
  }
 ],
 "metadata": {
  "kernelspec": {
   "display_name": "Python 3",
   "language": "python",
   "name": "python3"
  },
  "language_info": {
   "codemirror_mode": {
    "name": "ipython",
    "version": 3
   },
   "file_extension": ".py",
   "mimetype": "text/x-python",
   "name": "python",
   "nbconvert_exporter": "python",
   "pygments_lexer": "ipython3",
   "version": "3.11.4"
  },
  "orig_nbformat": 4
 },
 "nbformat": 4,
 "nbformat_minor": 2
}
