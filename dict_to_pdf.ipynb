{
 "cells": [
  {
   "cell_type": "code",
   "execution_count": 4,
   "metadata": {},
   "outputs": [],
   "source": [
    "from docxtpl import DocxTemplate\n",
    "from datetime import  datetime\n",
    "template = DocxTemplate(\"dynamic_table.docx\")\n",
    "\n",
    "\n",
    "context = {\n",
    "    'Company':'Tonys Logistics',\n",
    "    'date' : datetime.now().strftime(\"%d.%m.%Y\"),\n",
    "    'col_labels': ['Product', 'Category', 'Price', 'Stock'],\n",
    "'tbl_contents': [\n",
    "    {'label': 'Item 1', 'cols': ['Laptop', 'Electronics', '$900', '50'], 'bg': 'cccccc'},\n",
    "    {'label': 'Item 2', 'cols': ['T-shirt', 'Apparel', '$15', '200'], 'bg': 'bababa'},\n",
    "    {'label': 'Item 3', 'cols': ['Coffee Mug', 'Kitchenware', '$8', '150'], 'bg': 'cccccc'},\n",
    "    {'label': 'Item 4', 'cols': ['Smartphone', 'Electronics', '$700', '100'], 'bg': 'bababa'},\n",
    "],\n",
    "}\n",
    "\n",
    "template.render(context)\n",
    "template.save(\"dynamic_table_out.docx\")"
   ]
  }
 ],
 "metadata": {
  "kernelspec": {
   "display_name": "conda_env1",
   "language": "python",
   "name": "python3"
  },
  "language_info": {
   "codemirror_mode": {
    "name": "ipython",
    "version": 3
   },
   "file_extension": ".py",
   "mimetype": "text/x-python",
   "name": "python",
   "nbconvert_exporter": "python",
   "pygments_lexer": "ipython3",
   "version": "3.11.4"
  }
 },
 "nbformat": 4,
 "nbformat_minor": 2
}
